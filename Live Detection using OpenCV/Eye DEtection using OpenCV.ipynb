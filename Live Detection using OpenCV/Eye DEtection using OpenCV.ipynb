{
 "cells": [
  {
   "cell_type": "code",
   "execution_count": 21,
   "id": "85256b71-ce61-4735-89ff-3b924ec47bfc",
   "metadata": {},
   "outputs": [],
   "source": [
    "# import libraries\n",
    "import cv2\n",
    " \n",
    "# Load trained cascade classifier\n",
    "eye_detect = cv2.CascadeClassifier(cv2.data.haarcascades + 'haarcascade_eye.xml')\n",
    " \n",
    "# start camera / read video\n",
    "cam = cv2.VideoCapture(0)\n",
    " \n",
    "while True:\n",
    "     \n",
    "    # read frame/image from camera\n",
    "    resp, frame = cam.read()\n",
    "     \n",
    "    # no frame then brak loop\n",
    "    if resp==0:\n",
    "        break\n",
    "         \n",
    "    # Convert color image into grayscale\n",
    "    gray_img = cv2.cvtColor(frame, cv2.COLOR_BGR2GRAY)\n",
    "     \n",
    "    # Detect faces ROI\n",
    "    #Syntax: Classifier.detectMultiScale(input image, Scale Factor , Min Neighbors)\n",
    "    eyes = eye_detect.detectMultiScale(gray_img, scaleFactor=1.1, minNeighbors=10)\n",
    "     \n",
    "    # Draw rectangle around the faces\n",
    "    for (x,y,w,h) in eyes:\n",
    "        cv2.rectangle(frame, (x,y), (x+w, y+h), (0,255,0), 3)\n",
    "     \n",
    "    # Show image\n",
    "    cv2.imshow('Live Eye Detection', frame)  \n",
    "     \n",
    "    #wait to close window\n",
    "    if cv2.waitKey(1) & 0xFF == ord('q'):\n",
    "        break\n",
    "# release camera/webcam   \n",
    "cam.release()\n",
    " \n",
    "#close all windows\n",
    "cv2.destroyAllWindows()"
   ]
  },
  {
   "cell_type": "code",
   "execution_count": null,
   "id": "61b58a6e-ac28-485e-80e7-1c551cddfa3e",
   "metadata": {},
   "outputs": [],
   "source": []
  }
 ],
 "metadata": {
  "kernelspec": {
   "display_name": "Python 3 (ipykernel)",
   "language": "python",
   "name": "python3"
  },
  "language_info": {
   "codemirror_mode": {
    "name": "ipython",
    "version": 3
   },
   "file_extension": ".py",
   "mimetype": "text/x-python",
   "name": "python",
   "nbconvert_exporter": "python",
   "pygments_lexer": "ipython3",
   "version": "3.10.13"
  }
 },
 "nbformat": 4,
 "nbformat_minor": 5
}
